{
 "cells": [
  {
   "cell_type": "markdown",
   "metadata": {},
   "source": [
    "# Implement KNN for Iris Classification\n",
    "\n",
    "We are going to use Scikit-learn (`sklearn`) to build a KNN Classification model to classify iris flowers using the popular \"Iris\" data set. You can learn more about the data set in its Wikipedia entry:\n",
    "[Iris flower data set](https://en.wikipedia.org/wiki/Iris_flower_data_set).\n",
    "\n",
    "Note: a classification model is also referred to as a classifier. You will often see the term \"classifier\" used throughout this program."
   ]
  },
  {
   "cell_type": "markdown",
   "metadata": {
    "nbgrader": {
     "grade": false,
     "grade_id": "cell-3e747cf31a39895c",
     "locked": true,
     "schema_version": 1,
     "solution": false
    }
   },
   "source": [
    "## Import Packages\n",
    "\n",
    "Before we get started, let us import a few packages. Run the code cell below. "
   ]
  },
  {
   "cell_type": "code",
   "execution_count": 1,
   "metadata": {
    "nbgrader": {
     "grade": false,
     "grade_id": "cell-c5f7e10c9b80a142",
     "locked": true,
     "schema_version": 1,
     "solution": false
    }
   },
   "outputs": [],
   "source": [
    "import pandas as pd\n",
    "import matplotlib\n",
    "%matplotlib notebook\n",
    "import matplotlib.pyplot as plt\n",
    "from helper2 import visualize_knn\n",
    "import os"
   ]
  },
  {
   "cell_type": "markdown",
   "metadata": {},
   "source": [
    "We will also import the Scikit-learn `KNeighborsClassifier`, the `train_test_split()` function for splitting the data into training and test sets, and the metric `accuracy_score` to evaluate our model."
   ]
  },
  {
   "cell_type": "code",
   "execution_count": 2,
   "metadata": {},
   "outputs": [],
   "source": [
    "from sklearn.neighbors import KNeighborsClassifier\n",
    "from sklearn.model_selection import train_test_split\n",
    "from sklearn.metrics import accuracy_score"
   ]
  },
  {
   "cell_type": "markdown",
   "metadata": {},
   "source": [
    "## Step 1: Build the DataFrame and Define the ML Problem\n",
    "\n",
    "####  Load a Data Set and Save it as a Pandas DataFrame\n",
    "\n",
    "Next we will load the data from the iris data set and store it in a DataFrame named `df_iris`."
   ]
  },
  {
   "cell_type": "code",
   "execution_count": 3,
   "metadata": {},
   "outputs": [],
   "source": [
    "filename = os.path.join(os.getcwd(), \"data\", \"Iris_Data.csv\")\n",
    "df_iris = pd.read_csv(filename, header=0)"
   ]
  },
  {
   "cell_type": "markdown",
   "metadata": {},
   "source": [
    "#### Inspect the Data\n",
    "Rather than examining the full dataset, we will just examine ten randomly selected items."
   ]
  },
  {
   "cell_type": "code",
   "execution_count": 4,
   "metadata": {},
   "outputs": [
    {
     "name": "stdout",
     "output_type": "stream",
     "text": [
      "(150, 5)\n"
     ]
    },
    {
     "data": {
      "text/html": [
       "<div>\n",
       "<style scoped>\n",
       "    .dataframe tbody tr th:only-of-type {\n",
       "        vertical-align: middle;\n",
       "    }\n",
       "\n",
       "    .dataframe tbody tr th {\n",
       "        vertical-align: top;\n",
       "    }\n",
       "\n",
       "    .dataframe thead th {\n",
       "        text-align: right;\n",
       "    }\n",
       "</style>\n",
       "<table border=\"1\" class=\"dataframe\">\n",
       "  <thead>\n",
       "    <tr style=\"text-align: right;\">\n",
       "      <th></th>\n",
       "      <th>sepal_length</th>\n",
       "      <th>sepal_width</th>\n",
       "      <th>petal_length</th>\n",
       "      <th>petal_width</th>\n",
       "      <th>species</th>\n",
       "    </tr>\n",
       "  </thead>\n",
       "  <tbody>\n",
       "    <tr>\n",
       "      <th>14</th>\n",
       "      <td>5.8</td>\n",
       "      <td>4.0</td>\n",
       "      <td>1.2</td>\n",
       "      <td>0.2</td>\n",
       "      <td>Iris-setosa</td>\n",
       "    </tr>\n",
       "    <tr>\n",
       "      <th>98</th>\n",
       "      <td>5.1</td>\n",
       "      <td>2.5</td>\n",
       "      <td>3.0</td>\n",
       "      <td>1.1</td>\n",
       "      <td>Iris-versicolor</td>\n",
       "    </tr>\n",
       "    <tr>\n",
       "      <th>75</th>\n",
       "      <td>6.6</td>\n",
       "      <td>3.0</td>\n",
       "      <td>4.4</td>\n",
       "      <td>1.4</td>\n",
       "      <td>Iris-versicolor</td>\n",
       "    </tr>\n",
       "    <tr>\n",
       "      <th>16</th>\n",
       "      <td>5.4</td>\n",
       "      <td>3.9</td>\n",
       "      <td>1.3</td>\n",
       "      <td>0.4</td>\n",
       "      <td>Iris-setosa</td>\n",
       "    </tr>\n",
       "    <tr>\n",
       "      <th>131</th>\n",
       "      <td>7.9</td>\n",
       "      <td>3.8</td>\n",
       "      <td>6.4</td>\n",
       "      <td>2.0</td>\n",
       "      <td>Iris-virginica</td>\n",
       "    </tr>\n",
       "    <tr>\n",
       "      <th>56</th>\n",
       "      <td>6.3</td>\n",
       "      <td>3.3</td>\n",
       "      <td>4.7</td>\n",
       "      <td>1.6</td>\n",
       "      <td>Iris-versicolor</td>\n",
       "    </tr>\n",
       "    <tr>\n",
       "      <th>141</th>\n",
       "      <td>6.9</td>\n",
       "      <td>3.1</td>\n",
       "      <td>5.1</td>\n",
       "      <td>2.3</td>\n",
       "      <td>Iris-virginica</td>\n",
       "    </tr>\n",
       "    <tr>\n",
       "      <th>44</th>\n",
       "      <td>5.1</td>\n",
       "      <td>3.8</td>\n",
       "      <td>1.9</td>\n",
       "      <td>0.4</td>\n",
       "      <td>Iris-setosa</td>\n",
       "    </tr>\n",
       "    <tr>\n",
       "      <th>29</th>\n",
       "      <td>4.7</td>\n",
       "      <td>3.2</td>\n",
       "      <td>1.6</td>\n",
       "      <td>0.2</td>\n",
       "      <td>Iris-setosa</td>\n",
       "    </tr>\n",
       "    <tr>\n",
       "      <th>120</th>\n",
       "      <td>6.9</td>\n",
       "      <td>3.2</td>\n",
       "      <td>5.7</td>\n",
       "      <td>2.3</td>\n",
       "      <td>Iris-virginica</td>\n",
       "    </tr>\n",
       "  </tbody>\n",
       "</table>\n",
       "</div>"
      ],
      "text/plain": [
       "     sepal_length  sepal_width  petal_length  petal_width          species\n",
       "14            5.8          4.0           1.2          0.2      Iris-setosa\n",
       "98            5.1          2.5           3.0          1.1  Iris-versicolor\n",
       "75            6.6          3.0           4.4          1.4  Iris-versicolor\n",
       "16            5.4          3.9           1.3          0.4      Iris-setosa\n",
       "131           7.9          3.8           6.4          2.0   Iris-virginica\n",
       "56            6.3          3.3           4.7          1.6  Iris-versicolor\n",
       "141           6.9          3.1           5.1          2.3   Iris-virginica\n",
       "44            5.1          3.8           1.9          0.4      Iris-setosa\n",
       "29            4.7          3.2           1.6          0.2      Iris-setosa\n",
       "120           6.9          3.2           5.7          2.3   Iris-virginica"
      ]
     },
     "execution_count": 4,
     "metadata": {},
     "output_type": "execute_result"
    }
   ],
   "source": [
    "# shape\n",
    "print(df_iris.shape)\n",
    "\n",
    "# print a few random examples (rows)\n",
    "df_iris.sample(n=10, replace=False, random_state=1)"
   ]
  },
  {
   "cell_type": "markdown",
   "metadata": {},
   "source": [
    "#### Define the Label\n",
    "\n",
    "The data set will be used to predict whether an iris flower belongs to one of three species. This is an example of supervised learning and is a classification problem. Since a flower can be classified as belonging to one of three specifies (iris_setosa, iris-versicolor and iris-virginica), this is a multi-class classification problem. In our data set, the label will be the `species` column."
   ]
  },
  {
   "cell_type": "markdown",
   "metadata": {},
   "source": [
    "#### Identify Features\n",
    "\n",
    "Notice that the dataset contains four features of an iris flower: `sepal_length`, `sepal_width`, `petal_length` and `petal_width`."
   ]
  },
  {
   "cell_type": "markdown",
   "metadata": {},
   "source": [
    "#### Visualize the KNN Algorithm\n",
    "\n",
    "The KNN algorithm predicts the class label of an unlabeled example by finding the $k$ closest labeled examples. The most common class label among these $k$ examples is chosen to be the predicted class label of the unlabeled example. (Note that examples are also referred to as data points).\n",
    "\n",
    "Let's visualize this. To make the visualization simpler, rather than attempting to plot examples using all features, we are plotting examples with two dimensions (or two features).\n",
    "\n",
    "The following code cell plots 50 examples from the iris dataset using two features: petal length, and petal width. You should be able to click anywhere on the plot to add a test point. The plot will then draw direct connections from your test point to the k-nearest neighbors. \n",
    "\n",
    "You can change the number of neighbors and examine the results."
   ]
  },
  {
   "cell_type": "code",
   "execution_count": 6,
   "metadata": {},
   "outputs": [
    {
     "data": {
      "application/javascript": "/* Put everything inside the global mpl namespace */\n/* global mpl */\nwindow.mpl = {};\n\nmpl.get_websocket_type = function () {\n    if (typeof WebSocket !== 'undefined') {\n        return WebSocket;\n    } else if (typeof MozWebSocket !== 'undefined') {\n        return MozWebSocket;\n    } else {\n        alert(\n            'Your browser does not have WebSocket support. ' +\n                'Please try Chrome, Safari or Firefox ≥ 6. ' +\n                'Firefox 4 and 5 are also supported but you ' +\n                'have to enable WebSockets in about:config.'\n        );\n    }\n};\n\nmpl.figure = function (figure_id, websocket, ondownload, parent_element) {\n    this.id = figure_id;\n\n    this.ws = websocket;\n\n    this.supports_binary = this.ws.binaryType !== undefined;\n\n    if (!this.supports_binary) {\n        var warnings = document.getElementById('mpl-warnings');\n        if (warnings) {\n            warnings.style.display = 'block';\n            warnings.textContent =\n                'This browser does not support binary websocket messages. ' +\n                'Performance may be slow.';\n        }\n    }\n\n    this.imageObj = new Image();\n\n    this.context = undefined;\n    this.message = undefined;\n    this.canvas = undefined;\n    this.rubberband_canvas = undefined;\n    this.rubberband_context = undefined;\n    this.format_dropdown = undefined;\n\n    this.image_mode = 'full';\n\n    this.root = document.createElement('div');\n    this.root.setAttribute('style', 'display: inline-block');\n    this._root_extra_style(this.root);\n\n    parent_element.appendChild(this.root);\n\n    this._init_header(this);\n    this._init_canvas(this);\n    this._init_toolbar(this);\n\n    var fig = this;\n\n    this.waiting = false;\n\n    this.ws.onopen = function () {\n        fig.send_message('supports_binary', { value: fig.supports_binary });\n        fig.send_message('send_image_mode', {});\n        if (fig.ratio !== 1) {\n            fig.send_message('set_dpi_ratio', { dpi_ratio: fig.ratio });\n        }\n        fig.send_message('refresh', {});\n    };\n\n    this.imageObj.onload = function () {\n        if (fig.image_mode === 'full') {\n            // Full images could contain transparency (where diff images\n            // almost always do), so we need to clear the canvas so that\n            // there is no ghosting.\n            fig.context.clearRect(0, 0, fig.canvas.width, fig.canvas.height);\n        }\n        fig.context.drawImage(fig.imageObj, 0, 0);\n    };\n\n    this.imageObj.onunload = function () {\n        fig.ws.close();\n    };\n\n    this.ws.onmessage = this._make_on_message_function(this);\n\n    this.ondownload = ondownload;\n};\n\nmpl.figure.prototype._init_header = function () {\n    var titlebar = document.createElement('div');\n    titlebar.classList =\n        'ui-dialog-titlebar ui-widget-header ui-corner-all ui-helper-clearfix';\n    var titletext = document.createElement('div');\n    titletext.classList = 'ui-dialog-title';\n    titletext.setAttribute(\n        'style',\n        'width: 100%; text-align: center; padding: 3px;'\n    );\n    titlebar.appendChild(titletext);\n    this.root.appendChild(titlebar);\n    this.header = titletext;\n};\n\nmpl.figure.prototype._canvas_extra_style = function (_canvas_div) {};\n\nmpl.figure.prototype._root_extra_style = function (_canvas_div) {};\n\nmpl.figure.prototype._init_canvas = function () {\n    var fig = this;\n\n    var canvas_div = (this.canvas_div = document.createElement('div'));\n    canvas_div.setAttribute(\n        'style',\n        'border: 1px solid #ddd;' +\n            'box-sizing: content-box;' +\n            'clear: both;' +\n            'min-height: 1px;' +\n            'min-width: 1px;' +\n            'outline: 0;' +\n            'overflow: hidden;' +\n            'position: relative;' +\n            'resize: both;'\n    );\n\n    function on_keyboard_event_closure(name) {\n        return function (event) {\n            return fig.key_event(event, name);\n        };\n    }\n\n    canvas_div.addEventListener(\n        'keydown',\n        on_keyboard_event_closure('key_press')\n    );\n    canvas_div.addEventListener(\n        'keyup',\n        on_keyboard_event_closure('key_release')\n    );\n\n    this._canvas_extra_style(canvas_div);\n    this.root.appendChild(canvas_div);\n\n    var canvas = (this.canvas = document.createElement('canvas'));\n    canvas.classList.add('mpl-canvas');\n    canvas.setAttribute('style', 'box-sizing: content-box;');\n\n    this.context = canvas.getContext('2d');\n\n    var backingStore =\n        this.context.backingStorePixelRatio ||\n        this.context.webkitBackingStorePixelRatio ||\n        this.context.mozBackingStorePixelRatio ||\n        this.context.msBackingStorePixelRatio ||\n        this.context.oBackingStorePixelRatio ||\n        this.context.backingStorePixelRatio ||\n        1;\n\n    this.ratio = (window.devicePixelRatio || 1) / backingStore;\n\n    var rubberband_canvas = (this.rubberband_canvas = document.createElement(\n        'canvas'\n    ));\n    rubberband_canvas.setAttribute(\n        'style',\n        'box-sizing: content-box; position: absolute; left: 0; top: 0; z-index: 1;'\n    );\n\n    // Apply a ponyfill if ResizeObserver is not implemented by browser.\n    if (this.ResizeObserver === undefined) {\n        if (window.ResizeObserver !== undefined) {\n            this.ResizeObserver = window.ResizeObserver;\n        } else {\n            var obs = _JSXTOOLS_RESIZE_OBSERVER({});\n            this.ResizeObserver = obs.ResizeObserver;\n        }\n    }\n\n    this.resizeObserverInstance = new this.ResizeObserver(function (entries) {\n        var nentries = entries.length;\n        for (var i = 0; i < nentries; i++) {\n            var entry = entries[i];\n            var width, height;\n            if (entry.contentBoxSize) {\n                if (entry.contentBoxSize instanceof Array) {\n                    // Chrome 84 implements new version of spec.\n                    width = entry.contentBoxSize[0].inlineSize;\n                    height = entry.contentBoxSize[0].blockSize;\n                } else {\n                    // Firefox implements old version of spec.\n                    width = entry.contentBoxSize.inlineSize;\n                    height = entry.contentBoxSize.blockSize;\n                }\n            } else {\n                // Chrome <84 implements even older version of spec.\n                width = entry.contentRect.width;\n                height = entry.contentRect.height;\n            }\n\n            // Keep the size of the canvas and rubber band canvas in sync with\n            // the canvas container.\n            if (entry.devicePixelContentBoxSize) {\n                // Chrome 84 implements new version of spec.\n                canvas.setAttribute(\n                    'width',\n                    entry.devicePixelContentBoxSize[0].inlineSize\n                );\n                canvas.setAttribute(\n                    'height',\n                    entry.devicePixelContentBoxSize[0].blockSize\n                );\n            } else {\n                canvas.setAttribute('width', width * fig.ratio);\n                canvas.setAttribute('height', height * fig.ratio);\n            }\n            canvas.setAttribute(\n                'style',\n                'width: ' + width + 'px; height: ' + height + 'px;'\n            );\n\n            rubberband_canvas.setAttribute('width', width);\n            rubberband_canvas.setAttribute('height', height);\n\n            // And update the size in Python. We ignore the initial 0/0 size\n            // that occurs as the element is placed into the DOM, which should\n            // otherwise not happen due to the minimum size styling.\n            if (fig.ws.readyState == 1 && width != 0 && height != 0) {\n                fig.request_resize(width, height);\n            }\n        }\n    });\n    this.resizeObserverInstance.observe(canvas_div);\n\n    function on_mouse_event_closure(name) {\n        return function (event) {\n            return fig.mouse_event(event, name);\n        };\n    }\n\n    rubberband_canvas.addEventListener(\n        'mousedown',\n        on_mouse_event_closure('button_press')\n    );\n    rubberband_canvas.addEventListener(\n        'mouseup',\n        on_mouse_event_closure('button_release')\n    );\n    // Throttle sequential mouse events to 1 every 20ms.\n    rubberband_canvas.addEventListener(\n        'mousemove',\n        on_mouse_event_closure('motion_notify')\n    );\n\n    rubberband_canvas.addEventListener(\n        'mouseenter',\n        on_mouse_event_closure('figure_enter')\n    );\n    rubberband_canvas.addEventListener(\n        'mouseleave',\n        on_mouse_event_closure('figure_leave')\n    );\n\n    canvas_div.addEventListener('wheel', function (event) {\n        if (event.deltaY < 0) {\n            event.step = 1;\n        } else {\n            event.step = -1;\n        }\n        on_mouse_event_closure('scroll')(event);\n    });\n\n    canvas_div.appendChild(canvas);\n    canvas_div.appendChild(rubberband_canvas);\n\n    this.rubberband_context = rubberband_canvas.getContext('2d');\n    this.rubberband_context.strokeStyle = '#000000';\n\n    this._resize_canvas = function (width, height, forward) {\n        if (forward) {\n            canvas_div.style.width = width + 'px';\n            canvas_div.style.height = height + 'px';\n        }\n    };\n\n    // Disable right mouse context menu.\n    this.rubberband_canvas.addEventListener('contextmenu', function (_e) {\n        event.preventDefault();\n        return false;\n    });\n\n    function set_focus() {\n        canvas.focus();\n        canvas_div.focus();\n    }\n\n    window.setTimeout(set_focus, 100);\n};\n\nmpl.figure.prototype._init_toolbar = function () {\n    var fig = this;\n\n    var toolbar = document.createElement('div');\n    toolbar.classList = 'mpl-toolbar';\n    this.root.appendChild(toolbar);\n\n    function on_click_closure(name) {\n        return function (_event) {\n            return fig.toolbar_button_onclick(name);\n        };\n    }\n\n    function on_mouseover_closure(tooltip) {\n        return function (event) {\n            if (!event.currentTarget.disabled) {\n                return fig.toolbar_button_onmouseover(tooltip);\n            }\n        };\n    }\n\n    fig.buttons = {};\n    var buttonGroup = document.createElement('div');\n    buttonGroup.classList = 'mpl-button-group';\n    for (var toolbar_ind in mpl.toolbar_items) {\n        var name = mpl.toolbar_items[toolbar_ind][0];\n        var tooltip = mpl.toolbar_items[toolbar_ind][1];\n        var image = mpl.toolbar_items[toolbar_ind][2];\n        var method_name = mpl.toolbar_items[toolbar_ind][3];\n\n        if (!name) {\n            /* Instead of a spacer, we start a new button group. */\n            if (buttonGroup.hasChildNodes()) {\n                toolbar.appendChild(buttonGroup);\n            }\n            buttonGroup = document.createElement('div');\n            buttonGroup.classList = 'mpl-button-group';\n            continue;\n        }\n\n        var button = (fig.buttons[name] = document.createElement('button'));\n        button.classList = 'mpl-widget';\n        button.setAttribute('role', 'button');\n        button.setAttribute('aria-disabled', 'false');\n        button.addEventListener('click', on_click_closure(method_name));\n        button.addEventListener('mouseover', on_mouseover_closure(tooltip));\n\n        var icon_img = document.createElement('img');\n        icon_img.src = '_images/' + image + '.png';\n        icon_img.srcset = '_images/' + image + '_large.png 2x';\n        icon_img.alt = tooltip;\n        button.appendChild(icon_img);\n\n        buttonGroup.appendChild(button);\n    }\n\n    if (buttonGroup.hasChildNodes()) {\n        toolbar.appendChild(buttonGroup);\n    }\n\n    var fmt_picker = document.createElement('select');\n    fmt_picker.classList = 'mpl-widget';\n    toolbar.appendChild(fmt_picker);\n    this.format_dropdown = fmt_picker;\n\n    for (var ind in mpl.extensions) {\n        var fmt = mpl.extensions[ind];\n        var option = document.createElement('option');\n        option.selected = fmt === mpl.default_extension;\n        option.innerHTML = fmt;\n        fmt_picker.appendChild(option);\n    }\n\n    var status_bar = document.createElement('span');\n    status_bar.classList = 'mpl-message';\n    toolbar.appendChild(status_bar);\n    this.message = status_bar;\n};\n\nmpl.figure.prototype.request_resize = function (x_pixels, y_pixels) {\n    // Request matplotlib to resize the figure. Matplotlib will then trigger a resize in the client,\n    // which will in turn request a refresh of the image.\n    this.send_message('resize', { width: x_pixels, height: y_pixels });\n};\n\nmpl.figure.prototype.send_message = function (type, properties) {\n    properties['type'] = type;\n    properties['figure_id'] = this.id;\n    this.ws.send(JSON.stringify(properties));\n};\n\nmpl.figure.prototype.send_draw_message = function () {\n    if (!this.waiting) {\n        this.waiting = true;\n        this.ws.send(JSON.stringify({ type: 'draw', figure_id: this.id }));\n    }\n};\n\nmpl.figure.prototype.handle_save = function (fig, _msg) {\n    var format_dropdown = fig.format_dropdown;\n    var format = format_dropdown.options[format_dropdown.selectedIndex].value;\n    fig.ondownload(fig, format);\n};\n\nmpl.figure.prototype.handle_resize = function (fig, msg) {\n    var size = msg['size'];\n    if (size[0] !== fig.canvas.width || size[1] !== fig.canvas.height) {\n        fig._resize_canvas(size[0], size[1], msg['forward']);\n        fig.send_message('refresh', {});\n    }\n};\n\nmpl.figure.prototype.handle_rubberband = function (fig, msg) {\n    var x0 = msg['x0'] / fig.ratio;\n    var y0 = (fig.canvas.height - msg['y0']) / fig.ratio;\n    var x1 = msg['x1'] / fig.ratio;\n    var y1 = (fig.canvas.height - msg['y1']) / fig.ratio;\n    x0 = Math.floor(x0) + 0.5;\n    y0 = Math.floor(y0) + 0.5;\n    x1 = Math.floor(x1) + 0.5;\n    y1 = Math.floor(y1) + 0.5;\n    var min_x = Math.min(x0, x1);\n    var min_y = Math.min(y0, y1);\n    var width = Math.abs(x1 - x0);\n    var height = Math.abs(y1 - y0);\n\n    fig.rubberband_context.clearRect(\n        0,\n        0,\n        fig.canvas.width / fig.ratio,\n        fig.canvas.height / fig.ratio\n    );\n\n    fig.rubberband_context.strokeRect(min_x, min_y, width, height);\n};\n\nmpl.figure.prototype.handle_figure_label = function (fig, msg) {\n    // Updates the figure title.\n    fig.header.textContent = msg['label'];\n};\n\nmpl.figure.prototype.handle_cursor = function (fig, msg) {\n    var cursor = msg['cursor'];\n    switch (cursor) {\n        case 0:\n            cursor = 'pointer';\n            break;\n        case 1:\n            cursor = 'default';\n            break;\n        case 2:\n            cursor = 'crosshair';\n            break;\n        case 3:\n            cursor = 'move';\n            break;\n    }\n    fig.rubberband_canvas.style.cursor = cursor;\n};\n\nmpl.figure.prototype.handle_message = function (fig, msg) {\n    fig.message.textContent = msg['message'];\n};\n\nmpl.figure.prototype.handle_draw = function (fig, _msg) {\n    // Request the server to send over a new figure.\n    fig.send_draw_message();\n};\n\nmpl.figure.prototype.handle_image_mode = function (fig, msg) {\n    fig.image_mode = msg['mode'];\n};\n\nmpl.figure.prototype.handle_history_buttons = function (fig, msg) {\n    for (var key in msg) {\n        if (!(key in fig.buttons)) {\n            continue;\n        }\n        fig.buttons[key].disabled = !msg[key];\n        fig.buttons[key].setAttribute('aria-disabled', !msg[key]);\n    }\n};\n\nmpl.figure.prototype.handle_navigate_mode = function (fig, msg) {\n    if (msg['mode'] === 'PAN') {\n        fig.buttons['Pan'].classList.add('active');\n        fig.buttons['Zoom'].classList.remove('active');\n    } else if (msg['mode'] === 'ZOOM') {\n        fig.buttons['Pan'].classList.remove('active');\n        fig.buttons['Zoom'].classList.add('active');\n    } else {\n        fig.buttons['Pan'].classList.remove('active');\n        fig.buttons['Zoom'].classList.remove('active');\n    }\n};\n\nmpl.figure.prototype.updated_canvas_event = function () {\n    // Called whenever the canvas gets updated.\n    this.send_message('ack', {});\n};\n\n// A function to construct a web socket function for onmessage handling.\n// Called in the figure constructor.\nmpl.figure.prototype._make_on_message_function = function (fig) {\n    return function socket_on_message(evt) {\n        if (evt.data instanceof Blob) {\n            /* FIXME: We get \"Resource interpreted as Image but\n             * transferred with MIME type text/plain:\" errors on\n             * Chrome.  But how to set the MIME type?  It doesn't seem\n             * to be part of the websocket stream */\n            evt.data.type = 'image/png';\n\n            /* Free the memory for the previous frames */\n            if (fig.imageObj.src) {\n                (window.URL || window.webkitURL).revokeObjectURL(\n                    fig.imageObj.src\n                );\n            }\n\n            fig.imageObj.src = (window.URL || window.webkitURL).createObjectURL(\n                evt.data\n            );\n            fig.updated_canvas_event();\n            fig.waiting = false;\n            return;\n        } else if (\n            typeof evt.data === 'string' &&\n            evt.data.slice(0, 21) === 'data:image/png;base64'\n        ) {\n            fig.imageObj.src = evt.data;\n            fig.updated_canvas_event();\n            fig.waiting = false;\n            return;\n        }\n\n        var msg = JSON.parse(evt.data);\n        var msg_type = msg['type'];\n\n        // Call the  \"handle_{type}\" callback, which takes\n        // the figure and JSON message as its only arguments.\n        try {\n            var callback = fig['handle_' + msg_type];\n        } catch (e) {\n            console.log(\n                \"No handler for the '\" + msg_type + \"' message type: \",\n                msg\n            );\n            return;\n        }\n\n        if (callback) {\n            try {\n                // console.log(\"Handling '\" + msg_type + \"' message: \", msg);\n                callback(fig, msg);\n            } catch (e) {\n                console.log(\n                    \"Exception inside the 'handler_\" + msg_type + \"' callback:\",\n                    e,\n                    e.stack,\n                    msg\n                );\n            }\n        }\n    };\n};\n\n// from http://stackoverflow.com/questions/1114465/getting-mouse-location-in-canvas\nmpl.findpos = function (e) {\n    //this section is from http://www.quirksmode.org/js/events_properties.html\n    var targ;\n    if (!e) {\n        e = window.event;\n    }\n    if (e.target) {\n        targ = e.target;\n    } else if (e.srcElement) {\n        targ = e.srcElement;\n    }\n    if (targ.nodeType === 3) {\n        // defeat Safari bug\n        targ = targ.parentNode;\n    }\n\n    // pageX,Y are the mouse positions relative to the document\n    var boundingRect = targ.getBoundingClientRect();\n    var x = e.pageX - (boundingRect.left + document.body.scrollLeft);\n    var y = e.pageY - (boundingRect.top + document.body.scrollTop);\n\n    return { x: x, y: y };\n};\n\n/*\n * return a copy of an object with only non-object keys\n * we need this to avoid circular references\n * http://stackoverflow.com/a/24161582/3208463\n */\nfunction simpleKeys(original) {\n    return Object.keys(original).reduce(function (obj, key) {\n        if (typeof original[key] !== 'object') {\n            obj[key] = original[key];\n        }\n        return obj;\n    }, {});\n}\n\nmpl.figure.prototype.mouse_event = function (event, name) {\n    var canvas_pos = mpl.findpos(event);\n\n    if (name === 'button_press') {\n        this.canvas.focus();\n        this.canvas_div.focus();\n    }\n\n    var x = canvas_pos.x * this.ratio;\n    var y = canvas_pos.y * this.ratio;\n\n    this.send_message(name, {\n        x: x,\n        y: y,\n        button: event.button,\n        step: event.step,\n        guiEvent: simpleKeys(event),\n    });\n\n    /* This prevents the web browser from automatically changing to\n     * the text insertion cursor when the button is pressed.  We want\n     * to control all of the cursor setting manually through the\n     * 'cursor' event from matplotlib */\n    event.preventDefault();\n    return false;\n};\n\nmpl.figure.prototype._key_event_extra = function (_event, _name) {\n    // Handle any extra behaviour associated with a key event\n};\n\nmpl.figure.prototype.key_event = function (event, name) {\n    // Prevent repeat events\n    if (name === 'key_press') {\n        if (event.which === this._key) {\n            return;\n        } else {\n            this._key = event.which;\n        }\n    }\n    if (name === 'key_release') {\n        this._key = null;\n    }\n\n    var value = '';\n    if (event.ctrlKey && event.which !== 17) {\n        value += 'ctrl+';\n    }\n    if (event.altKey && event.which !== 18) {\n        value += 'alt+';\n    }\n    if (event.shiftKey && event.which !== 16) {\n        value += 'shift+';\n    }\n\n    value += 'k';\n    value += event.which.toString();\n\n    this._key_event_extra(event, name);\n\n    this.send_message(name, { key: value, guiEvent: simpleKeys(event) });\n    return false;\n};\n\nmpl.figure.prototype.toolbar_button_onclick = function (name) {\n    if (name === 'download') {\n        this.handle_save(this, null);\n    } else {\n        this.send_message('toolbar_button', { name: name });\n    }\n};\n\nmpl.figure.prototype.toolbar_button_onmouseover = function (tooltip) {\n    this.message.textContent = tooltip;\n};\n\n///////////////// REMAINING CONTENT GENERATED BY embed_js.py /////////////////\n// prettier-ignore\nvar _JSXTOOLS_RESIZE_OBSERVER=function(A){var t,i=new WeakMap,n=new WeakMap,a=new WeakMap,r=new WeakMap,o=new Set;function s(e){if(!(this instanceof s))throw new TypeError(\"Constructor requires 'new' operator\");i.set(this,e)}function h(){throw new TypeError(\"Function is not a constructor\")}function c(e,t,i,n){e=0 in arguments?Number(arguments[0]):0,t=1 in arguments?Number(arguments[1]):0,i=2 in arguments?Number(arguments[2]):0,n=3 in arguments?Number(arguments[3]):0,this.right=(this.x=this.left=e)+(this.width=i),this.bottom=(this.y=this.top=t)+(this.height=n),Object.freeze(this)}function d(){t=requestAnimationFrame(d);var s=new WeakMap,p=new Set;o.forEach((function(t){r.get(t).forEach((function(i){var r=t instanceof window.SVGElement,o=a.get(t),d=r?0:parseFloat(o.paddingTop),f=r?0:parseFloat(o.paddingRight),l=r?0:parseFloat(o.paddingBottom),u=r?0:parseFloat(o.paddingLeft),g=r?0:parseFloat(o.borderTopWidth),m=r?0:parseFloat(o.borderRightWidth),w=r?0:parseFloat(o.borderBottomWidth),b=u+f,F=d+l,v=(r?0:parseFloat(o.borderLeftWidth))+m,W=g+w,y=r?0:t.offsetHeight-W-t.clientHeight,E=r?0:t.offsetWidth-v-t.clientWidth,R=b+v,z=F+W,M=r?t.width:parseFloat(o.width)-R-E,O=r?t.height:parseFloat(o.height)-z-y;if(n.has(t)){var k=n.get(t);if(k[0]===M&&k[1]===O)return}n.set(t,[M,O]);var S=Object.create(h.prototype);S.target=t,S.contentRect=new c(u,d,M,O),s.has(i)||(s.set(i,[]),p.add(i)),s.get(i).push(S)}))})),p.forEach((function(e){i.get(e).call(e,s.get(e),e)}))}return s.prototype.observe=function(i){if(i instanceof window.Element){r.has(i)||(r.set(i,new Set),o.add(i),a.set(i,window.getComputedStyle(i)));var n=r.get(i);n.has(this)||n.add(this),cancelAnimationFrame(t),t=requestAnimationFrame(d)}},s.prototype.unobserve=function(i){if(i instanceof window.Element&&r.has(i)){var n=r.get(i);n.has(this)&&(n.delete(this),n.size||(r.delete(i),o.delete(i))),n.size||r.delete(i),o.size||cancelAnimationFrame(t)}},A.DOMRectReadOnly=c,A.ResizeObserver=s,A.ResizeObserverEntry=h,A}; // eslint-disable-line\nmpl.toolbar_items = [[\"Home\", \"Reset original view\", \"fa fa-home icon-home\", \"home\"], [\"Back\", \"Back to previous view\", \"fa fa-arrow-left icon-arrow-left\", \"back\"], [\"Forward\", \"Forward to next view\", \"fa fa-arrow-right icon-arrow-right\", \"forward\"], [\"\", \"\", \"\", \"\"], [\"Pan\", \"Left button pans, Right button zooms\\nx/y fixes axis, CTRL fixes aspect\", \"fa fa-arrows icon-move\", \"pan\"], [\"Zoom\", \"Zoom to rectangle\\nx/y fixes axis, CTRL fixes aspect\", \"fa fa-square-o icon-check-empty\", \"zoom\"], [\"\", \"\", \"\", \"\"], [\"Download\", \"Download plot\", \"fa fa-floppy-o icon-save\", \"download\"]];\n\nmpl.extensions = [\"eps\", \"jpeg\", \"pdf\", \"png\", \"ps\", \"raw\", \"svg\", \"tif\"];\n\nmpl.default_extension = \"png\";/* global mpl */\n\nvar comm_websocket_adapter = function (comm) {\n    // Create a \"websocket\"-like object which calls the given IPython comm\n    // object with the appropriate methods. Currently this is a non binary\n    // socket, so there is still some room for performance tuning.\n    var ws = {};\n\n    ws.close = function () {\n        comm.close();\n    };\n    ws.send = function (m) {\n        //console.log('sending', m);\n        comm.send(m);\n    };\n    // Register the callback with on_msg.\n    comm.on_msg(function (msg) {\n        //console.log('receiving', msg['content']['data'], msg);\n        // Pass the mpl event to the overridden (by mpl) onmessage function.\n        ws.onmessage(msg['content']['data']);\n    });\n    return ws;\n};\n\nmpl.mpl_figure_comm = function (comm, msg) {\n    // This is the function which gets called when the mpl process\n    // starts-up an IPython Comm through the \"matplotlib\" channel.\n\n    var id = msg.content.data.id;\n    // Get hold of the div created by the display call when the Comm\n    // socket was opened in Python.\n    var element = document.getElementById(id);\n    var ws_proxy = comm_websocket_adapter(comm);\n\n    function ondownload(figure, _format) {\n        window.open(figure.canvas.toDataURL());\n    }\n\n    var fig = new mpl.figure(id, ws_proxy, ondownload, element);\n\n    // Call onopen now - mpl needs it, as it is assuming we've passed it a real\n    // web socket which is closed, not our websocket->open comm proxy.\n    ws_proxy.onopen();\n\n    fig.parent_element = element;\n    fig.cell_info = mpl.find_output_cell(\"<div id='\" + id + \"'></div>\");\n    if (!fig.cell_info) {\n        console.error('Failed to find cell for figure', id, fig);\n        return;\n    }\n    fig.cell_info[0].output_area.element.on(\n        'cleared',\n        { fig: fig },\n        fig._remove_fig_handler\n    );\n};\n\nmpl.figure.prototype.handle_close = function (fig, msg) {\n    var width = fig.canvas.width / fig.ratio;\n    fig.cell_info[0].output_area.element.off(\n        'cleared',\n        fig._remove_fig_handler\n    );\n    fig.resizeObserverInstance.unobserve(fig.canvas_div);\n\n    // Update the output cell to use the data from the current canvas.\n    fig.push_to_output();\n    var dataURL = fig.canvas.toDataURL();\n    // Re-enable the keyboard manager in IPython - without this line, in FF,\n    // the notebook keyboard shortcuts fail.\n    IPython.keyboard_manager.enable();\n    fig.parent_element.innerHTML =\n        '<img src=\"' + dataURL + '\" width=\"' + width + '\">';\n    fig.close_ws(fig, msg);\n};\n\nmpl.figure.prototype.close_ws = function (fig, msg) {\n    fig.send_message('closing', msg);\n    // fig.ws.close()\n};\n\nmpl.figure.prototype.push_to_output = function (_remove_interactive) {\n    // Turn the data on the canvas into data in the output cell.\n    var width = this.canvas.width / this.ratio;\n    var dataURL = this.canvas.toDataURL();\n    this.cell_info[1]['text/html'] =\n        '<img src=\"' + dataURL + '\" width=\"' + width + '\">';\n};\n\nmpl.figure.prototype.updated_canvas_event = function () {\n    // Tell IPython that the notebook contents must change.\n    IPython.notebook.set_dirty(true);\n    this.send_message('ack', {});\n    var fig = this;\n    // Wait a second, then push the new image to the DOM so\n    // that it is saved nicely (might be nice to debounce this).\n    setTimeout(function () {\n        fig.push_to_output();\n    }, 1000);\n};\n\nmpl.figure.prototype._init_toolbar = function () {\n    var fig = this;\n\n    var toolbar = document.createElement('div');\n    toolbar.classList = 'btn-toolbar';\n    this.root.appendChild(toolbar);\n\n    function on_click_closure(name) {\n        return function (_event) {\n            return fig.toolbar_button_onclick(name);\n        };\n    }\n\n    function on_mouseover_closure(tooltip) {\n        return function (event) {\n            if (!event.currentTarget.disabled) {\n                return fig.toolbar_button_onmouseover(tooltip);\n            }\n        };\n    }\n\n    fig.buttons = {};\n    var buttonGroup = document.createElement('div');\n    buttonGroup.classList = 'btn-group';\n    var button;\n    for (var toolbar_ind in mpl.toolbar_items) {\n        var name = mpl.toolbar_items[toolbar_ind][0];\n        var tooltip = mpl.toolbar_items[toolbar_ind][1];\n        var image = mpl.toolbar_items[toolbar_ind][2];\n        var method_name = mpl.toolbar_items[toolbar_ind][3];\n\n        if (!name) {\n            /* Instead of a spacer, we start a new button group. */\n            if (buttonGroup.hasChildNodes()) {\n                toolbar.appendChild(buttonGroup);\n            }\n            buttonGroup = document.createElement('div');\n            buttonGroup.classList = 'btn-group';\n            continue;\n        }\n\n        button = fig.buttons[name] = document.createElement('button');\n        button.classList = 'btn btn-default';\n        button.href = '#';\n        button.title = name;\n        button.innerHTML = '<i class=\"fa ' + image + ' fa-lg\"></i>';\n        button.addEventListener('click', on_click_closure(method_name));\n        button.addEventListener('mouseover', on_mouseover_closure(tooltip));\n        buttonGroup.appendChild(button);\n    }\n\n    if (buttonGroup.hasChildNodes()) {\n        toolbar.appendChild(buttonGroup);\n    }\n\n    // Add the status bar.\n    var status_bar = document.createElement('span');\n    status_bar.classList = 'mpl-message pull-right';\n    toolbar.appendChild(status_bar);\n    this.message = status_bar;\n\n    // Add the close button to the window.\n    var buttongrp = document.createElement('div');\n    buttongrp.classList = 'btn-group inline pull-right';\n    button = document.createElement('button');\n    button.classList = 'btn btn-mini btn-primary';\n    button.href = '#';\n    button.title = 'Stop Interaction';\n    button.innerHTML = '<i class=\"fa fa-power-off icon-remove icon-large\"></i>';\n    button.addEventListener('click', function (_evt) {\n        fig.handle_close(fig, {});\n    });\n    button.addEventListener(\n        'mouseover',\n        on_mouseover_closure('Stop Interaction')\n    );\n    buttongrp.appendChild(button);\n    var titlebar = this.root.querySelector('.ui-dialog-titlebar');\n    titlebar.insertBefore(buttongrp, titlebar.firstChild);\n};\n\nmpl.figure.prototype._remove_fig_handler = function (event) {\n    var fig = event.data.fig;\n    if (event.target !== this) {\n        // Ignore bubbled events from children.\n        return;\n    }\n    fig.close_ws(fig, {});\n};\n\nmpl.figure.prototype._root_extra_style = function (el) {\n    el.style.boxSizing = 'content-box'; // override notebook setting of border-box.\n};\n\nmpl.figure.prototype._canvas_extra_style = function (el) {\n    // this is important to make the div 'focusable\n    el.setAttribute('tabindex', 0);\n    // reach out to IPython and tell the keyboard manager to turn it's self\n    // off when our div gets focus\n\n    // location in version 3\n    if (IPython.notebook.keyboard_manager) {\n        IPython.notebook.keyboard_manager.register_events(el);\n    } else {\n        // location in version 2\n        IPython.keyboard_manager.register_events(el);\n    }\n};\n\nmpl.figure.prototype._key_event_extra = function (event, _name) {\n    var manager = IPython.notebook.keyboard_manager;\n    if (!manager) {\n        manager = IPython.keyboard_manager;\n    }\n\n    // Check for shift+enter\n    if (event.shiftKey && event.which === 13) {\n        this.canvas_div.blur();\n        // select the cell after this one\n        var index = IPython.notebook.find_cell_index(this.cell_info[0]);\n        IPython.notebook.select(index + 1);\n    }\n};\n\nmpl.figure.prototype.handle_save = function (fig, _msg) {\n    fig.ondownload(fig, null);\n};\n\nmpl.find_output_cell = function (html_output) {\n    // Return the cell and output element which can be found *uniquely* in the notebook.\n    // Note - this is a bit hacky, but it is done because the \"notebook_saving.Notebook\"\n    // IPython event is triggered only after the cells have been serialised, which for\n    // our purposes (turning an active figure into a static one), is too late.\n    var cells = IPython.notebook.get_cells();\n    var ncells = cells.length;\n    for (var i = 0; i < ncells; i++) {\n        var cell = cells[i];\n        if (cell.cell_type === 'code') {\n            for (var j = 0; j < cell.output_area.outputs.length; j++) {\n                var data = cell.output_area.outputs[j];\n                if (data.data) {\n                    // IPython >= 3 moved mimebundle to data attribute of output\n                    data = data.data;\n                }\n                if (data['text/html'] === html_output) {\n                    return [cell, data, j];\n                }\n            }\n        }\n    }\n};\n\n// Register the function which deals with the matplotlib target/channel.\n// The kernel may be null if the page has been refreshed.\nif (IPython.notebook.kernel !== null) {\n    IPython.notebook.kernel.comm_manager.register_target(\n        'matplotlib',\n        mpl.mpl_figure_comm\n    );\n}\n",
      "text/plain": [
       "<IPython.core.display.Javascript object>"
      ]
     },
     "metadata": {},
     "output_type": "display_data"
    },
    {
     "data": {
      "text/html": [
       "<img src=\"data:image/png;base64,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\" width=\"640\">"
      ],
      "text/plain": [
       "<IPython.core.display.HTML object>"
      ]
     },
     "metadata": {},
     "output_type": "display_data"
    },
    {
     "name": "stdout",
     "output_type": "stream",
     "text": [
      "10\n"
     ]
    }
   ],
   "source": [
    "number_of_neighbors = 10\n",
    "visualize_knn(number_of_neighbors)"
   ]
  },
  {
   "cell_type": "markdown",
   "metadata": {},
   "source": [
    "## Step 2: Create Labeled Examples from the Data Set for the Model Training Phase\n",
    "\n",
    "Let us assume that our data has been prepared using some of the data preparation techniques that you practiced in Unit two, and is ready for modeling.\n",
    "\n",
    "Before we can use our data as input to a machine learning model using Scikit-learn, we have to create labeled examples from our dataset. We will split our data into two groups: `X` (for the features) and `Y` (for the label).\n",
    "\n",
    "We will use only two of the four features to begin with. The code cell below carries out the following steps:\n",
    "\n",
    "* Takes the `petal_length` and `petal_width` columns from DataFrame `df_iris` and assigns them to the variable `X`. These are our <b>features</b>. \n",
    "* Takes the `species` column from `dfiris` and assigns it to the variable `y`. This is our <b>label</b>.\n",
    "* Prints the values of `X` and `y`\n",
    "\n",
    "Run the code cell below and inspect the results. You will see that we have 150 labeled examples. Each example contains two features (`petal_length` and `petal_width`) and one label (`species`).\n"
   ]
  },
  {
   "cell_type": "code",
   "execution_count": 7,
   "metadata": {
    "nbgrader": {
     "grade": false,
     "grade_id": "cell-922378fd6fbb2a87",
     "locked": true,
     "schema_version": 1,
     "solution": false
    }
   },
   "outputs": [
    {
     "name": "stdout",
     "output_type": "stream",
     "text": [
      "Number of Examples: 150\n",
      "Number of Features: 2\n",
      "\n",
      "Features:\n",
      "\n",
      "     petal_length  petal_width\n",
      "0             1.4          0.2\n",
      "1             1.4          0.2\n",
      "2             1.3          0.2\n",
      "3             1.5          0.2\n",
      "4             1.4          0.2\n",
      "..            ...          ...\n",
      "145           5.2          2.3\n",
      "146           5.0          1.9\n",
      "147           5.2          2.0\n",
      "148           5.4          2.3\n",
      "149           5.1          1.8\n",
      "\n",
      "[150 rows x 2 columns]\n",
      "\n",
      "Labels:\n",
      "\n",
      "0         Iris-setosa\n",
      "1         Iris-setosa\n",
      "2         Iris-setosa\n",
      "3         Iris-setosa\n",
      "4         Iris-setosa\n",
      "            ...      \n",
      "145    Iris-virginica\n",
      "146    Iris-virginica\n",
      "147    Iris-virginica\n",
      "148    Iris-virginica\n",
      "149    Iris-virginica\n",
      "Name: species, Length: 150, dtype: object\n"
     ]
    }
   ],
   "source": [
    "X = df_iris[['petal_length', 'petal_width']]\n",
    "y = df_iris['species'] \n",
    "\n",
    "print(\"Number of Examples: \" + str(X.shape[0]))\n",
    "print(\"Number of Features: \" + str(X.shape[1]))\n",
    "print(\"\\nFeatures:\\n\")\n",
    "print(X)\n",
    "print(\"\\nLabels:\\n\")\n",
    "print(y)"
   ]
  },
  {
   "cell_type": "markdown",
   "metadata": {},
   "source": [
    "## Step 3: Create Training and Test Data Sets\n",
    "\n",
    "Now that we have specified examples, we will need to split them into a training set that we will use to train our model, and a test set, which we will use to understand the performance of our model on new data. \n",
    "\n",
    "Scikit-learn has a convenient function ```train_test_split()``` to do all this for us in a systematic way. \n",
    "We have imported this method above. As its name suggests, this function splits a dataset into separate training and test sets. Consult the [online documentation](https://scikit-learn.org/stable/modules/generated/sklearn.model_selection.train_test_split.html?highlight=train_test_split#sklearn-model-selection-train-test-split) for more information.\n",
    "\n",
    "#### Train and Test Data Set Sizes:\n",
    "\n",
    "The `train_test_split()` function splits a dataset randomly, such that approximately 25% of the data winds up in the test set and the remaining 75% in the training set. You can also specify how much of the data set should be used as a test set using the parameter `test_size.`\n",
    "\n",
    "Because ```train_test_split()``` generates random splits of the input data, each time we call the function we will get a different split.  Sometimes it is useful, for the purposes of code development, to be able to get reproducible random numbers or random splits, which can then be relaxed once one wishes to generate statistics over many random runs.     With ```train_test_split()```, this can be accomplished by using the ```random_state``` option; if specified with that state as an integer, then the <b>same</b> random split will be generated each time the function is called (until one changes the value of the integer).  This is known as providing a seed to the pseudo-random number generator that is used by ```train_test_split()```.\n",
    "\n",
    "In our case, we want to split ```X``` and ```y``` into coordinated training and test sets, so we will use a seed.\n",
    "\n",
    "#### Output:\n",
    "\n",
    "The  ```train_test_split()``` function will return four outputs (four subsets of the data) in the following order `X_train`, `X_test`, `y_train`, `y_test`. In the code cell below, we have assigned these values to the proper variable names, indicating what each data subset will be used for in the training and evaluation process. Note that these variable names are the conventional standard, and are what you will use throughout this program.\n",
    "\n",
    "Note that `X_train` corresponds to features that we will use to train our model,  and `y_train` corresponds to labels that we will use to train our model. \n",
    "\n",
    "Likewise, `X_test` corresponds to the features we will use to test our model, and `y_test` corresponds to the labels that we will use to determine whether the predictions our model makes on `X_test` are accurate.\n",
    "\n",
    "In summary:\n",
    "\n",
    "1. We will train the KNN model on `X_train` and `y_train`.\n",
    "\n",
    "2. We will then apply the trained model to `X_test` to produce predicted class labels.\n",
    "\n",
    "3. For evaluation, we will compare these predicted class labels against the true labels provided in `y_test`.\n",
    "\n",
    "\n",
    "#### Task:\n",
    "\n",
    "Examine the code in the cell below to see how to properly implement `train_test_split()`. Run the code cell below to execute ```train_test_split()``` with `X` and `y` as inputs, along with the parameters:\n",
    "* `random_state=4` to ensure reproducible output each time the function is called\n",
    "* `test_size=0.2`, which will randomly set aside 20% of the data to be used for testing. \n"
   ]
  },
  {
   "cell_type": "code",
   "execution_count": 8,
   "metadata": {},
   "outputs": [],
   "source": [
    "X_train, X_test, y_train, y_test = train_test_split(X, y, test_size=0.2, random_state=4)"
   ]
  },
  {
   "cell_type": "markdown",
   "metadata": {},
   "source": [
    "\n",
    "## Step 4: Train the Model: Fit a KNN Model to the Training Set\n",
    "\n",
    "Scikit-learn works by creating objects that represent a model: in this case, the model is a KNN classification model (also known as a classifier). The basic workflow is to first create a ```KNeighborsClassifier``` model object, specifying all necessary model configurations, such as hyperparameter values. Next is to fit the model (train the model) to the training data; all model objects that one creates using `sklearn` possess a ```fit()``` method to accomplish this.  You can then use the model object to make predictions on the test data using the `predict()` method. \n",
    "\n",
    "The code cell below:\n",
    "\n",
    "1. Creates a ```KNeighborsClassifier``` object, specifying the number of neighbors $k$ to be three, and assigns the result to the variable `model`. \n",
    "\n",
    "2. Calls the ```fit()``` method on ```model``` to fit the model to the training data. The first argument should be ```X_train``` and the second ```y_train```. \n",
    "\n",
    "3. Uses the trained model to make predictions on unlabeled examples contained in `X_test`. The cell below uses the ```predict()``` method on ```model``` with the argument ```X_test``` to use the trained model to predict values for the test data. It stores the outcome in the variable ```prediction```. We will compare these values to ```y_test``` later.\n",
    "\n",
    "Execute the code cell below and notice how the different flowers in our test set were classified."
   ]
  },
  {
   "cell_type": "code",
   "execution_count": 9,
   "metadata": {},
   "outputs": [
    {
     "name": "stdout",
     "output_type": "stream",
     "text": [
      "['Iris-virginica' 'Iris-setosa' 'Iris-virginica' 'Iris-virginica'\n",
      " 'Iris-virginica' 'Iris-versicolor' 'Iris-virginica' 'Iris-setosa'\n",
      " 'Iris-setosa' 'Iris-versicolor' 'Iris-setosa' 'Iris-setosa' 'Iris-setosa'\n",
      " 'Iris-versicolor' 'Iris-virginica' 'Iris-setosa' 'Iris-versicolor'\n",
      " 'Iris-setosa' 'Iris-setosa' 'Iris-virginica' 'Iris-setosa'\n",
      " 'Iris-virginica' 'Iris-versicolor' 'Iris-setosa' 'Iris-setosa'\n",
      " 'Iris-setosa' 'Iris-setosa' 'Iris-setosa' 'Iris-setosa' 'Iris-virginica']\n"
     ]
    }
   ],
   "source": [
    "# Initialize the model\n",
    "model = KNeighborsClassifier(n_neighbors=3)\n",
    "\n",
    "# Train the model using the training sets\n",
    "model.fit(X_train, y_train) \n",
    "\n",
    "# Make predictions on the test set\n",
    "prediction= model.predict(X_test) \n",
    "\n",
    "print(prediction)"
   ]
  },
  {
   "cell_type": "markdown",
   "metadata": {},
   "source": [
    "## Step 5: Check the Accuracy of the Model\n",
    "\n",
    "One way of assessing the performance of a classifier is by computing its accuracy on the test data, that is, what fraction of the test data are correctly predicted by the classifier.  Fortunately, Scikit-learn provides a built-in function named ```accuracy_score()``` that carries out this computation; we imported it above, and you can read more about it in the online [documentation](https://scikit-learn.org/stable/modules/generated/sklearn.metrics.accuracy_score.html?highlight=accuracy_score#sklearn.metrics.accuracy_score). The accuracy score is a fraction between 0 and 1 indicating the fraction of predictions that match the true value in the test set. \n",
    "\n",
    "NOTE: It was mentioned earlier that at times, specific loss functions may be used during the evaluation phase. In this case, accuracy produces the same result as the zero-one loss function. It is a very simple loss function that counts how many mistakes a model makes on the training data.\n",
    "\n",
    "\n",
    "The code cell below takes our predictions and compares them against the actual values in `y_test`. Execute the code cell below to see the accuracy score of your model."
   ]
  },
  {
   "cell_type": "code",
   "execution_count": 10,
   "metadata": {},
   "outputs": [
    {
     "name": "stdout",
     "output_type": "stream",
     "text": [
      "Accuracy score of model: 0.9333333333333333\n"
     ]
    }
   ],
   "source": [
    "# Compute and print model's accuracy score\n",
    "score = accuracy_score(y_test, prediction)\n",
    "print('Accuracy score of model: ' + str(score))"
   ]
  },
  {
   "cell_type": "markdown",
   "metadata": {},
   "source": [
    "Your model has a pretty high score!"
   ]
  },
  {
   "cell_type": "markdown",
   "metadata": {},
   "source": [
    "## Step 6: Train a New KNN Model on All Features\n",
    "\n",
    "We just trained on two features in the iris data set. Now let's train on all features and examine the accuracy score for the new model.\n",
    "\n",
    "Let's create new labeled examples. The code cell below carries out the following steps:\n",
    "\n",
    "* Uses all features from DataFrame `df_iris` and assigns them to the variable `X`. \n",
    "* Extracts the `species` data from `df_iris` and assigns it to the variable `y`. \n",
    "* Prints the values of `X` and `y`\n",
    "\n",
    "Execute the code cell below and inspect the results. You will see that we have 150 labeled examples. Each example contains four features: `sepal_length`, `sepal_width`, `petal_length` and `petal_width`, and one label `species`.\n",
    "\n"
   ]
  },
  {
   "cell_type": "code",
   "execution_count": 11,
   "metadata": {},
   "outputs": [
    {
     "name": "stdout",
     "output_type": "stream",
     "text": [
      "     sepal_length  sepal_width  petal_length  petal_width\n",
      "0             5.1          3.5           1.4          0.2\n",
      "1             4.9          3.0           1.4          0.2\n",
      "2             4.7          3.2           1.3          0.2\n",
      "3             4.6          3.1           1.5          0.2\n",
      "4             5.0          3.6           1.4          0.2\n",
      "..            ...          ...           ...          ...\n",
      "145           6.7          3.0           5.2          2.3\n",
      "146           6.3          2.5           5.0          1.9\n",
      "147           6.5          3.0           5.2          2.0\n",
      "148           6.2          3.4           5.4          2.3\n",
      "149           5.9          3.0           5.1          1.8\n",
      "\n",
      "[150 rows x 4 columns]\n",
      "0         Iris-setosa\n",
      "1         Iris-setosa\n",
      "2         Iris-setosa\n",
      "3         Iris-setosa\n",
      "4         Iris-setosa\n",
      "            ...      \n",
      "145    Iris-virginica\n",
      "146    Iris-virginica\n",
      "147    Iris-virginica\n",
      "148    Iris-virginica\n",
      "149    Iris-virginica\n",
      "Name: species, Length: 150, dtype: object\n"
     ]
    }
   ],
   "source": [
    "X = df_iris[['sepal_length', 'sepal_width', 'petal_length', 'petal_width']]\n",
    "y = df_iris['species']\n",
    "print(X)\n",
    "print(y)"
   ]
  },
  {
   "cell_type": "markdown",
   "metadata": {},
   "source": [
    "The code cell below creates new train and test sets."
   ]
  },
  {
   "cell_type": "code",
   "execution_count": 12,
   "metadata": {},
   "outputs": [],
   "source": [
    "X_train, X_test, y_train, y_test = train_test_split(X, y, test_size=0.2, random_state=4)"
   ]
  },
  {
   "cell_type": "markdown",
   "metadata": {},
   "source": [
    "The code cell below trains the model on the training data, uses the model to make predictions on the test data and evaluates the model by obtaining the model's accuracy."
   ]
  },
  {
   "cell_type": "code",
   "execution_count": 13,
   "metadata": {},
   "outputs": [
    {
     "name": "stdout",
     "output_type": "stream",
     "text": [
      "Accuracy score of model: 0.9666666666666667\n"
     ]
    }
   ],
   "source": [
    "# Initialize the model\n",
    "model = KNeighborsClassifier(n_neighbors=3)\n",
    "\n",
    "# Train the model using the training sets\n",
    "model.fit(X_train, y_train) \n",
    "\n",
    "# Make predictions on the test set\n",
    "prediction= model.predict(X_test) \n",
    "\n",
    "# Compute and print model's accuracy score\n",
    "score = accuracy_score(y_test, prediction)\n",
    "print('Accuracy score of model: ' + str(score))\n",
    "    "
   ]
  },
  {
   "cell_type": "markdown",
   "metadata": {},
   "source": [
    "For more information on the `KNeighborsClassifier`, visit the online [scikit-learn documentation](https://scikit-learn.org/stable/modules/generated/sklearn.neighbors.KNeighborsClassifier.html)."
   ]
  }
 ],
 "metadata": {
  "anaconda-cloud": {},
  "kernelspec": {
   "display_name": "Python 3",
   "language": "python",
   "name": "python3"
  },
  "language_info": {
   "codemirror_mode": {
    "name": "ipython",
    "version": 3
   },
   "file_extension": ".py",
   "mimetype": "text/x-python",
   "name": "python",
   "nbconvert_exporter": "python",
   "pygments_lexer": "ipython3",
   "version": "3.6.9"
  },
  "toc": {
   "base_numbering": 1,
   "nav_menu": {},
   "number_sections": false,
   "sideBar": true,
   "skip_h1_title": false,
   "title_cell": "Table of Contents",
   "title_sidebar": "Contents",
   "toc_cell": false,
   "toc_position": {},
   "toc_section_display": true,
   "toc_window_display": false
  },
  "varInspector": {
   "cols": {
    "lenName": 16,
    "lenType": 16,
    "lenVar": 40
   },
   "kernels_config": {
    "python": {
     "delete_cmd_postfix": "",
     "delete_cmd_prefix": "del ",
     "library": "var_list.py",
     "varRefreshCmd": "print(var_dic_list())"
    },
    "r": {
     "delete_cmd_postfix": ") ",
     "delete_cmd_prefix": "rm(",
     "library": "var_list.r",
     "varRefreshCmd": "cat(var_dic_list()) "
    }
   },
   "types_to_exclude": [
    "module",
    "function",
    "builtin_function_or_method",
    "instance",
    "_Feature"
   ],
   "window_display": false
  }
 },
 "nbformat": 4,
 "nbformat_minor": 1
}
