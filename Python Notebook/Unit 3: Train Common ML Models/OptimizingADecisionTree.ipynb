{
 "cells": [
  {
   "cell_type": "markdown",
   "metadata": {},
   "source": [
    "# Decision Tree Optimization"
   ]
  },
  {
   "cell_type": "markdown",
   "metadata": {},
   "source": [
    "In this exercise you will train multiple Decision Tree Classification models using using different values of hyperparameter \"Max Depth\" and compare the accuracy of each model. You will train the Decision Tree models on \"cell2cell\" -- a telecom company churn prediction data set.\n"
   ]
  },
  {
   "cell_type": "markdown",
   "metadata": {},
   "source": [
    "### Import Packages\n",
    "\n",
    "Before you get started, import a few packages. Run the code cell below. "
   ]
  },
  {
   "cell_type": "code",
   "execution_count": 1,
   "metadata": {},
   "outputs": [],
   "source": [
    "import pandas as pd\n",
    "import numpy as np\n",
    "import os \n",
    "import matplotlib.pyplot as plt\n",
    "import seaborn as sns"
   ]
  },
  {
   "cell_type": "markdown",
   "metadata": {},
   "source": [
    "We will also import the scikit-learn `DecisionTreeClassifier`, the `train_test_split()` function for splitting the data into training and test sets, and the metric `accuracy_score` to evaluate our model."
   ]
  },
  {
   "cell_type": "code",
   "execution_count": 2,
   "metadata": {},
   "outputs": [],
   "source": [
    "from sklearn.tree import DecisionTreeClassifier\n",
    "from sklearn.model_selection import train_test_split\n",
    "from sklearn.metrics import accuracy_score"
   ]
  },
  {
   "cell_type": "markdown",
   "metadata": {},
   "source": [
    "## Step 1. Build the DataFrame and Define the ML Problem"
   ]
  },
  {
   "cell_type": "markdown",
   "metadata": {},
   "source": [
    "####  Load a Data Set and Save it as a Pandas DataFrame\n",
    "\n",
    "We will work with a new version of \"cell2celltrain\" that already has all the necessary data preparation steps implemented, including one-hot encoding of the categorical values."
   ]
  },
  {
   "cell_type": "code",
   "execution_count": 3,
   "metadata": {},
   "outputs": [],
   "source": [
    "filename = os.path.join(os.getcwd(), \"data\", \"cell2celltrain.csv\")\n",
    "df = pd.read_csv(filename, header=0)"
   ]
  },
  {
   "cell_type": "markdown",
   "metadata": {},
   "source": [
    "#### Inspect the Data"
   ]
  },
  {
   "cell_type": "code",
   "execution_count": 4,
   "metadata": {},
   "outputs": [
    {
     "data": {
      "text/plain": [
       "(51047, 85)"
      ]
     },
     "execution_count": 4,
     "metadata": {},
     "output_type": "execute_result"
    }
   ],
   "source": [
    "df.shape"
   ]
  },
  {
   "cell_type": "code",
   "execution_count": 5,
   "metadata": {},
   "outputs": [
    {
     "data": {
      "text/html": [
       "<div>\n",
       "<style scoped>\n",
       "    .dataframe tbody tr th:only-of-type {\n",
       "        vertical-align: middle;\n",
       "    }\n",
       "\n",
       "    .dataframe tbody tr th {\n",
       "        vertical-align: top;\n",
       "    }\n",
       "\n",
       "    .dataframe thead th {\n",
       "        text-align: right;\n",
       "    }\n",
       "</style>\n",
       "<table border=\"1\" class=\"dataframe\">\n",
       "  <thead>\n",
       "    <tr style=\"text-align: right;\">\n",
       "      <th></th>\n",
       "      <th>CustomerID</th>\n",
       "      <th>Churn</th>\n",
       "      <th>ChildrenInHH</th>\n",
       "      <th>HandsetRefurbished</th>\n",
       "      <th>HandsetWebCapable</th>\n",
       "      <th>TruckOwner</th>\n",
       "      <th>RVOwner</th>\n",
       "      <th>HomeownershipKnown</th>\n",
       "      <th>BuysViaMailOrder</th>\n",
       "      <th>RespondsToMailOffers</th>\n",
       "      <th>...</th>\n",
       "      <th>Occupation_Crafts</th>\n",
       "      <th>Occupation_Homemaker</th>\n",
       "      <th>Occupation_Other</th>\n",
       "      <th>Occupation_Professional</th>\n",
       "      <th>Occupation_Retired</th>\n",
       "      <th>Occupation_Self</th>\n",
       "      <th>Occupation_Student</th>\n",
       "      <th>Married_False</th>\n",
       "      <th>Married_True</th>\n",
       "      <th>Married_nan</th>\n",
       "    </tr>\n",
       "  </thead>\n",
       "  <tbody>\n",
       "    <tr>\n",
       "      <th>0</th>\n",
       "      <td>3000002</td>\n",
       "      <td>True</td>\n",
       "      <td>False</td>\n",
       "      <td>False</td>\n",
       "      <td>True</td>\n",
       "      <td>False</td>\n",
       "      <td>False</td>\n",
       "      <td>True</td>\n",
       "      <td>True</td>\n",
       "      <td>True</td>\n",
       "      <td>...</td>\n",
       "      <td>0.0</td>\n",
       "      <td>0.0</td>\n",
       "      <td>0.0</td>\n",
       "      <td>1.0</td>\n",
       "      <td>0.0</td>\n",
       "      <td>0.0</td>\n",
       "      <td>0.0</td>\n",
       "      <td>1.0</td>\n",
       "      <td>0.0</td>\n",
       "      <td>0.0</td>\n",
       "    </tr>\n",
       "    <tr>\n",
       "      <th>1</th>\n",
       "      <td>3000010</td>\n",
       "      <td>True</td>\n",
       "      <td>True</td>\n",
       "      <td>False</td>\n",
       "      <td>False</td>\n",
       "      <td>False</td>\n",
       "      <td>False</td>\n",
       "      <td>True</td>\n",
       "      <td>True</td>\n",
       "      <td>True</td>\n",
       "      <td>...</td>\n",
       "      <td>0.0</td>\n",
       "      <td>0.0</td>\n",
       "      <td>0.0</td>\n",
       "      <td>1.0</td>\n",
       "      <td>0.0</td>\n",
       "      <td>0.0</td>\n",
       "      <td>0.0</td>\n",
       "      <td>0.0</td>\n",
       "      <td>1.0</td>\n",
       "      <td>0.0</td>\n",
       "    </tr>\n",
       "    <tr>\n",
       "      <th>2</th>\n",
       "      <td>3000014</td>\n",
       "      <td>False</td>\n",
       "      <td>True</td>\n",
       "      <td>False</td>\n",
       "      <td>False</td>\n",
       "      <td>False</td>\n",
       "      <td>False</td>\n",
       "      <td>False</td>\n",
       "      <td>False</td>\n",
       "      <td>False</td>\n",
       "      <td>...</td>\n",
       "      <td>1.0</td>\n",
       "      <td>0.0</td>\n",
       "      <td>0.0</td>\n",
       "      <td>0.0</td>\n",
       "      <td>0.0</td>\n",
       "      <td>0.0</td>\n",
       "      <td>0.0</td>\n",
       "      <td>0.0</td>\n",
       "      <td>1.0</td>\n",
       "      <td>0.0</td>\n",
       "    </tr>\n",
       "    <tr>\n",
       "      <th>3</th>\n",
       "      <td>3000022</td>\n",
       "      <td>False</td>\n",
       "      <td>False</td>\n",
       "      <td>False</td>\n",
       "      <td>True</td>\n",
       "      <td>False</td>\n",
       "      <td>False</td>\n",
       "      <td>True</td>\n",
       "      <td>True</td>\n",
       "      <td>True</td>\n",
       "      <td>...</td>\n",
       "      <td>0.0</td>\n",
       "      <td>0.0</td>\n",
       "      <td>1.0</td>\n",
       "      <td>0.0</td>\n",
       "      <td>0.0</td>\n",
       "      <td>0.0</td>\n",
       "      <td>0.0</td>\n",
       "      <td>1.0</td>\n",
       "      <td>0.0</td>\n",
       "      <td>0.0</td>\n",
       "    </tr>\n",
       "    <tr>\n",
       "      <th>4</th>\n",
       "      <td>3000026</td>\n",
       "      <td>True</td>\n",
       "      <td>False</td>\n",
       "      <td>False</td>\n",
       "      <td>False</td>\n",
       "      <td>False</td>\n",
       "      <td>False</td>\n",
       "      <td>True</td>\n",
       "      <td>True</td>\n",
       "      <td>True</td>\n",
       "      <td>...</td>\n",
       "      <td>0.0</td>\n",
       "      <td>0.0</td>\n",
       "      <td>0.0</td>\n",
       "      <td>1.0</td>\n",
       "      <td>0.0</td>\n",
       "      <td>0.0</td>\n",
       "      <td>0.0</td>\n",
       "      <td>0.0</td>\n",
       "      <td>1.0</td>\n",
       "      <td>0.0</td>\n",
       "    </tr>\n",
       "  </tbody>\n",
       "</table>\n",
       "<p>5 rows × 85 columns</p>\n",
       "</div>"
      ],
      "text/plain": [
       "   CustomerID  Churn  ChildrenInHH  HandsetRefurbished  HandsetWebCapable  \\\n",
       "0     3000002   True         False               False               True   \n",
       "1     3000010   True          True               False              False   \n",
       "2     3000014  False          True               False              False   \n",
       "3     3000022  False         False               False               True   \n",
       "4     3000026   True         False               False              False   \n",
       "\n",
       "   TruckOwner  RVOwner  HomeownershipKnown  BuysViaMailOrder  \\\n",
       "0       False    False                True              True   \n",
       "1       False    False                True              True   \n",
       "2       False    False               False             False   \n",
       "3       False    False                True              True   \n",
       "4       False    False                True              True   \n",
       "\n",
       "   RespondsToMailOffers  ...  Occupation_Crafts  Occupation_Homemaker  \\\n",
       "0                  True  ...                0.0                   0.0   \n",
       "1                  True  ...                0.0                   0.0   \n",
       "2                 False  ...                1.0                   0.0   \n",
       "3                  True  ...                0.0                   0.0   \n",
       "4                  True  ...                0.0                   0.0   \n",
       "\n",
       "   Occupation_Other  Occupation_Professional  Occupation_Retired  \\\n",
       "0               0.0                      1.0                 0.0   \n",
       "1               0.0                      1.0                 0.0   \n",
       "2               0.0                      0.0                 0.0   \n",
       "3               1.0                      0.0                 0.0   \n",
       "4               0.0                      1.0                 0.0   \n",
       "\n",
       "   Occupation_Self  Occupation_Student  Married_False  Married_True  \\\n",
       "0              0.0                 0.0            1.0           0.0   \n",
       "1              0.0                 0.0            0.0           1.0   \n",
       "2              0.0                 0.0            0.0           1.0   \n",
       "3              0.0                 0.0            1.0           0.0   \n",
       "4              0.0                 0.0            0.0           1.0   \n",
       "\n",
       "   Married_nan  \n",
       "0          0.0  \n",
       "1          0.0  \n",
       "2          0.0  \n",
       "3          0.0  \n",
       "4          0.0  \n",
       "\n",
       "[5 rows x 85 columns]"
      ]
     },
     "execution_count": 5,
     "metadata": {},
     "output_type": "execute_result"
    }
   ],
   "source": [
    "df.head()"
   ]
  },
  {
   "cell_type": "markdown",
   "metadata": {},
   "source": [
    "#### Define the Label\n",
    "\n",
    "Once again, this is a binary classification problem in which we will predict customer churn. The label is the `Churn` column."
   ]
  },
  {
   "cell_type": "markdown",
   "metadata": {},
   "source": [
    "#### Identify Features\n",
    "\n",
    "Our features will be all of the remaining columns in the data set. Inspect the columns in DataFrame `df` below to get an idea of the different features that will be used for model training."
   ]
  },
  {
   "cell_type": "code",
   "execution_count": 6,
   "metadata": {},
   "outputs": [
    {
     "data": {
      "text/plain": [
       "['CustomerID',\n",
       " 'ChildrenInHH',\n",
       " 'HandsetRefurbished',\n",
       " 'HandsetWebCapable',\n",
       " 'TruckOwner',\n",
       " 'RVOwner',\n",
       " 'HomeownershipKnown',\n",
       " 'BuysViaMailOrder',\n",
       " 'RespondsToMailOffers',\n",
       " 'OptOutMailings',\n",
       " 'NonUSTravel',\n",
       " 'OwnsComputer',\n",
       " 'HasCreditCard',\n",
       " 'NewCellphoneUser',\n",
       " 'NotNewCellphoneUser',\n",
       " 'OwnsMotorcycle',\n",
       " 'MadeCallToRetentionTeam',\n",
       " 'MonthlyRevenue',\n",
       " 'MonthlyMinutes',\n",
       " 'TotalRecurringCharge',\n",
       " 'DirectorAssistedCalls',\n",
       " 'OverageMinutes',\n",
       " 'RoamingCalls',\n",
       " 'PercChangeMinutes',\n",
       " 'PercChangeRevenues',\n",
       " 'DroppedCalls',\n",
       " 'BlockedCalls',\n",
       " 'UnansweredCalls',\n",
       " 'CustomerCareCalls',\n",
       " 'ThreewayCalls',\n",
       " 'ReceivedCalls',\n",
       " 'OutboundCalls',\n",
       " 'InboundCalls',\n",
       " 'PeakCallsInOut',\n",
       " 'OffPeakCallsInOut',\n",
       " 'DroppedBlockedCalls',\n",
       " 'CallForwardingCalls',\n",
       " 'CallWaitingCalls',\n",
       " 'MonthsInService',\n",
       " 'UniqueSubs',\n",
       " 'ActiveSubs',\n",
       " 'Handsets',\n",
       " 'HandsetModels',\n",
       " 'CurrentEquipmentDays',\n",
       " 'AgeHH1',\n",
       " 'AgeHH2',\n",
       " 'RetentionCalls',\n",
       " 'RetentionOffersAccepted',\n",
       " 'ReferralsMadeBySubscriber',\n",
       " 'IncomeGroup',\n",
       " 'AdjustmentsToCreditRating',\n",
       " 'HandsetPrice',\n",
       " 'ServiceAreaNYCBRO917',\n",
       " 'ServiceAreaHOUHOU281',\n",
       " 'ServiceAreaDALDAL214',\n",
       " 'ServiceAreaNYCMAN917',\n",
       " 'ServiceAreaAPCFCH703',\n",
       " 'ServiceAreaDALFTW817',\n",
       " 'ServiceAreaSANSAN210',\n",
       " 'ServiceAreaAPCSIL301',\n",
       " 'ServiceAreaSANAUS512',\n",
       " 'ServiceAreaSFROAK510',\n",
       " 'CreditRating_1-Highest',\n",
       " 'CreditRating_2-High',\n",
       " 'CreditRating_3-Good',\n",
       " 'CreditRating_4-Medium',\n",
       " 'CreditRating_5-Low',\n",
       " 'CreditRating_6-VeryLow',\n",
       " 'CreditRating_7-Lowest',\n",
       " 'PrizmCode_Other',\n",
       " 'PrizmCode_Rural',\n",
       " 'PrizmCode_Suburban',\n",
       " 'PrizmCode_Town',\n",
       " 'Occupation_Clerical',\n",
       " 'Occupation_Crafts',\n",
       " 'Occupation_Homemaker',\n",
       " 'Occupation_Other',\n",
       " 'Occupation_Professional',\n",
       " 'Occupation_Retired',\n",
       " 'Occupation_Self',\n",
       " 'Occupation_Student',\n",
       " 'Married_False',\n",
       " 'Married_True',\n",
       " 'Married_nan']"
      ]
     },
     "execution_count": 6,
     "metadata": {},
     "output_type": "execute_result"
    }
   ],
   "source": [
    "list(df.loc[:, df.columns != 'Churn'])"
   ]
  },
  {
   "cell_type": "markdown",
   "metadata": {},
   "source": [
    "## Step 2: Create Labeled Examples from the Data Set for the Model Training Phase\n"
   ]
  },
  {
   "cell_type": "markdown",
   "metadata": {},
   "source": [
    "Let's obtain columns from our data set to create labeled examples. \n",
    "In the code cell below carry out the following steps:\n",
    "\n",
    "* Get the `Churn` column from DataFrame `df` and assign it to the variable `y`. This will be our label.\n",
    "* Assign all other columns from DataFrame `df` to the variable `X`. These will be our features. \n",
    "\n",
    "You should have 51047 labeled examples. Each example contains 84 features and one label (`Churn`).\n"
   ]
  },
  {
   "cell_type": "markdown",
   "metadata": {},
   "source": [
    "### Graded Cell\n",
    "\n",
    "The cell below will be graded. Remove the line \"raise NotImplementedError()\" before writing your code."
   ]
  },
  {
   "cell_type": "code",
   "execution_count": 8,
   "metadata": {
    "deletable": false,
    "nbgrader": {
     "checksum": "b3f4897116c98d25b6a83c6919f2d642",
     "grade": false,
     "grade_id": "cell-XY",
     "locked": false,
     "schema_version": 1,
     "solution": true
    }
   },
   "outputs": [
    {
     "name": "stdout",
     "output_type": "stream",
     "text": [
      "Number of examples: 51047\n",
      "\n",
      "Number of Features:84\n",
      "['CustomerID', 'ChildrenInHH', 'HandsetRefurbished', 'HandsetWebCapable', 'TruckOwner', 'RVOwner', 'HomeownershipKnown', 'BuysViaMailOrder', 'RespondsToMailOffers', 'OptOutMailings', 'NonUSTravel', 'OwnsComputer', 'HasCreditCard', 'NewCellphoneUser', 'NotNewCellphoneUser', 'OwnsMotorcycle', 'MadeCallToRetentionTeam', 'MonthlyRevenue', 'MonthlyMinutes', 'TotalRecurringCharge', 'DirectorAssistedCalls', 'OverageMinutes', 'RoamingCalls', 'PercChangeMinutes', 'PercChangeRevenues', 'DroppedCalls', 'BlockedCalls', 'UnansweredCalls', 'CustomerCareCalls', 'ThreewayCalls', 'ReceivedCalls', 'OutboundCalls', 'InboundCalls', 'PeakCallsInOut', 'OffPeakCallsInOut', 'DroppedBlockedCalls', 'CallForwardingCalls', 'CallWaitingCalls', 'MonthsInService', 'UniqueSubs', 'ActiveSubs', 'Handsets', 'HandsetModels', 'CurrentEquipmentDays', 'AgeHH1', 'AgeHH2', 'RetentionCalls', 'RetentionOffersAccepted', 'ReferralsMadeBySubscriber', 'IncomeGroup', 'AdjustmentsToCreditRating', 'HandsetPrice', 'ServiceAreaNYCBRO917', 'ServiceAreaHOUHOU281', 'ServiceAreaDALDAL214', 'ServiceAreaNYCMAN917', 'ServiceAreaAPCFCH703', 'ServiceAreaDALFTW817', 'ServiceAreaSANSAN210', 'ServiceAreaAPCSIL301', 'ServiceAreaSANAUS512', 'ServiceAreaSFROAK510', 'CreditRating_1-Highest', 'CreditRating_2-High', 'CreditRating_3-Good', 'CreditRating_4-Medium', 'CreditRating_5-Low', 'CreditRating_6-VeryLow', 'CreditRating_7-Lowest', 'PrizmCode_Other', 'PrizmCode_Rural', 'PrizmCode_Suburban', 'PrizmCode_Town', 'Occupation_Clerical', 'Occupation_Crafts', 'Occupation_Homemaker', 'Occupation_Other', 'Occupation_Professional', 'Occupation_Retired', 'Occupation_Self', 'Occupation_Student', 'Married_False', 'Married_True', 'Married_nan']\n"
     ]
    }
   ],
   "source": [
    "# YOUR CODE HERE\n",
    "y = df['Churn']\n",
    "X = df.drop(columns = 'Churn', axis = 1)\n",
    "print(\"Number of examples: \" + str(X.shape[0]))\n",
    "print(\"\\nNumber of Features:\" + str(X.shape[1]))\n",
    "print(str(list(X.columns)))\n",
    "\n"
   ]
  },
  {
   "cell_type": "markdown",
   "metadata": {},
   "source": [
    "### Self-Check\n",
    "\n",
    "Run the cell below to test the correctness of your code above before submitting for grading. Do not add code or delete code in the cell."
   ]
  },
  {
   "cell_type": "code",
   "execution_count": 9,
   "metadata": {
    "deletable": false,
    "editable": false,
    "nbgrader": {
     "checksum": "5810d80abce4ff3e64963e72f15762e9",
     "grade": true,
     "grade_id": "cell-XY-test",
     "locked": true,
     "points": 2,
     "schema_version": 1,
     "solution": false
    }
   },
   "outputs": [
    {
     "name": "stdout",
     "output_type": "stream",
     "text": [
      "Correct!\n"
     ]
    }
   ],
   "source": [
    "# Run this self-test cell to check your code; \n",
    "# do not add code or delete code in this cell\n",
    "from jn import testXY\n",
    "\n",
    "try:\n",
    "    p, err = testXY(y,X,df)\n",
    "    print(err)\n",
    "except Exception as e:\n",
    "    print(\"Error!\\n\" + str(e))\n",
    "    "
   ]
  },
  {
   "cell_type": "markdown",
   "metadata": {},
   "source": [
    "## Step 3: Create Training and Test Data Sets"
   ]
  },
  {
   "cell_type": "markdown",
   "metadata": {},
   "source": [
    "In the code cell below to use the `train_test_split()` function to create training and test sets out of the labeled examples. \n",
    "\n",
    "You will call `train_test_split()` function with the following arguments:\n",
    "    \n",
    "1. Variable `X` containing features.\n",
    "2. Variable `y` containing the label.\n",
    "3. A test set that is 30 percent of the size of the data set. More specifically, use the parameter `test_size=0.30`.\n",
    "4. A seed value of `123`. More specifically, use the parameter `random_state=123`.\n",
    "    \n",
    "The `train_test_split()` function will return four outputs (data subsets). Assign these outputs to the following variable names, using the following order:  `X_train`, `X_test`, `y_train`, `y_test`. \n",
    "\n",
    "Note that you will be able to accomplish this using one line of code."
   ]
  },
  {
   "cell_type": "markdown",
   "metadata": {},
   "source": [
    "### Graded Cell\n",
    "\n",
    "The cell below will be graded. Remove the line \"raise NotImplementedError()\" before writing your code."
   ]
  },
  {
   "cell_type": "code",
   "execution_count": 10,
   "metadata": {
    "deletable": false,
    "nbgrader": {
     "checksum": "9e9e6658863fc8bd10d4689be2798529",
     "grade": false,
     "grade_id": "cell-trainingData",
     "locked": false,
     "schema_version": 1,
     "solution": true
    }
   },
   "outputs": [],
   "source": [
    "# YOUR CODE HERE\n",
    "X_train, X_test, y_train, y_test = train_test_split(X, y, test_size = 0.3, random_state = 123)"
   ]
  },
  {
   "cell_type": "markdown",
   "metadata": {},
   "source": [
    "### Self-Check\n",
    "\n",
    "Run the cell below to test the correctness of your code above before submitting for grading. Do not add code or delete code in the cell."
   ]
  },
  {
   "cell_type": "code",
   "execution_count": 11,
   "metadata": {
    "deletable": false,
    "editable": false,
    "nbgrader": {
     "checksum": "24b8c7ea2c6c0e479cf0caf8b7454576",
     "grade": true,
     "grade_id": "cell-trainingData-test",
     "locked": true,
     "points": 3,
     "schema_version": 1,
     "solution": false
    }
   },
   "outputs": [
    {
     "name": "stdout",
     "output_type": "stream",
     "text": [
      "Correct!\n"
     ]
    }
   ],
   "source": [
    "# Run this self-test cell to check your code; \n",
    "# do not add code or delete code in this cell\n",
    "from jn import testSplit\n",
    "\n",
    "try:\n",
    "    p, err = testSplit(X_train, X_test, y_train, y_test, df)\n",
    "    print(err)\n",
    "except Exception as e:\n",
    "    print(\"Error!\\n\" + str(e))\n",
    "    \n"
   ]
  },
  {
   "cell_type": "markdown",
   "metadata": {},
   "source": [
    "Check that the dimensions of the training and test datasets are what you expected:"
   ]
  },
  {
   "cell_type": "code",
   "execution_count": 12,
   "metadata": {},
   "outputs": [
    {
     "name": "stdout",
     "output_type": "stream",
     "text": [
      "(35732, 84)\n",
      "(15315, 84)\n"
     ]
    }
   ],
   "source": [
    "print(X_train.shape)\n",
    "print(X_test.shape)"
   ]
  },
  {
   "cell_type": "markdown",
   "metadata": {},
   "source": [
    "## Step 4: Train and Evaluate the Model:\n",
    "### Fit a Decision Tree Classification Model and Evaluate the Accuracy of the Model"
   ]
  },
  {
   "cell_type": "markdown",
   "metadata": {},
   "source": [
    "The code cell below contains a shell of a function named `train_test_DT()`. This function should train a Decision Tree classifier on the training data, test the resulting model on the test data, and compute and return the accuracy score of the resulting predicted class labels on the test data. \n",
    "\n",
    "Your task is to fill in the function to make it work.\n",
    "\n",
    "Inspect the function definition `train_test_DT(X_train, X_test, y_train, y_test, leaf, depth,  crit='entropy')`. The function expects the test and train datasets as well as a values for:\n",
    "\n",
    "  1. leaf = The minimum number of samples required to be at a leaf node \n",
    "  2. depth = The maximum depth of the tree\n",
    "  3. crit = The function to be used to measure the quality of a split. If this argument is not specified, the default is 'gini.' We specified 'entropy'.\n",
    "        \n",
    "\n",
    "In the code cell below:\n",
    "\n",
    "\n",
    "1. Use ``DecisionTreeClassifier()`` to create a model object, and assign the result to the variable ```model```.  Call the method with these parameters: \n",
    "    * `criterion = crit`\n",
    "    * `max_depth = depth`\n",
    "    * `min_samples_leaf = leaf`\n",
    "   \n",
    "2. Call the ```model.fit()``` method to fit the model to the training data. The first argument should be ```X_train``` and the second argument should be ```y_train```.\n",
    "<br>\n",
    "3. Call the ```model.predict()``` method  with the argument ```X_test``` to use the fitted model to predict values for the test data. Store the outcome in the variable ```class_label_predictions```.\n",
    "<br>\n",
    "4. Call the ```accuracy_score()``` function; the first argument should be `y_test` and the second argument should be `class_label_predictions`. Assign the result to variable `acc_score`.\n",
    "<br>\n",
    "\n",
    "\n",
    "You might find it useful to consult the `DecisionTreeClassifier` Scikit-learn online [documentation](https://scikit-learn.org/stable/modules/generated/sklearn.tree.DecisionTreeClassifier.html) to see how to accomplish this tasks.\n"
   ]
  },
  {
   "cell_type": "markdown",
   "metadata": {},
   "source": [
    "### Graded Cell\n",
    "\n",
    "The cell below will be graded. Remove the line \"raise NotImplementedError()\" before writing your code."
   ]
  },
  {
   "cell_type": "code",
   "execution_count": 15,
   "metadata": {
    "deletable": false,
    "nbgrader": {
     "checksum": "643a60e6d7201c28949b9b740e3199ba",
     "grade": false,
     "grade_id": "cell-train",
     "locked": false,
     "schema_version": 1,
     "solution": true
    }
   },
   "outputs": [],
   "source": [
    "def train_test_DT(X_train, X_test, y_train, y_test, leaf, depth, crit='entropy'):\n",
    "    '''\n",
    "    Fit a Decision Tree classifier to the training data X_train, y_train.\n",
    "    Return the accuracy of resulting predictions on the test set.\n",
    "    Parameters:\n",
    "        leaf := The minimum number of samples required to be at a leaf node \n",
    "        depth := The maximum depth of the tree\n",
    "        crit := The function to be used to measure the quality of a split. Default: gini.\n",
    "    '''\n",
    "    \n",
    "     # 1. Create the  DecisionTreeClassifier model object below and assign to variable 'model'\n",
    "    # YOUR CODE HERE\n",
    "    model = DecisionTreeClassifier(criterion = crit, max_depth = depth, min_samples_leaf = leaf)\n",
    "\n",
    "    # 2. Fit the model to the training data below\n",
    "    # YOUR CODE HERE\n",
    "    model.fit(X_train, y_train)\n",
    "    \n",
    "    # 3. Make predictions on the test data below and assign the result to the variable 'class_label_predictions'\n",
    "    # YOUR CODE HERE\n",
    "    class_label_predictions = model.predict(X_test)\n",
    "\n",
    "    # 4. Compute the accuracy here and save the result to the variable 'acc_score'\n",
    "    # YOUR CODE HERE\n",
    "    acc_score = accuracy_score(y_test, class_label_predictions)\n",
    "    \n",
    "    \n",
    "    return acc_score"
   ]
  },
  {
   "cell_type": "markdown",
   "metadata": {},
   "source": [
    "### Self-Check\n",
    "\n",
    "Run the cell below to test the correctness of your code above before submitting for grading. Do not add code or delete code in the cell."
   ]
  },
  {
   "cell_type": "code",
   "execution_count": 16,
   "metadata": {
    "deletable": false,
    "editable": false,
    "nbgrader": {
     "checksum": "b90a9791c330c8bee048da416583bbea",
     "grade": true,
     "grade_id": "cell-train-test",
     "locked": true,
     "points": 4,
     "schema_version": 1,
     "solution": false
    }
   },
   "outputs": [
    {
     "name": "stdout",
     "output_type": "stream",
     "text": [
      "Correct!\n"
     ]
    }
   ],
   "source": [
    "# Run this self-test cell to check your code; \n",
    "# do not add code or delete code in this cell\n",
    "from jn import testFunction\n",
    "\n",
    "try:\n",
    "    p, err = testFunction(train_test_DT, df)\n",
    "    print(err)\n",
    "except Exception as e:\n",
    "    print(\"Error!\\n\" + str(e))\n",
    "    "
   ]
  },
  {
   "cell_type": "markdown",
   "metadata": {},
   "source": [
    "#### Train on Different Hyperparameter Values\n",
    "\n",
    "The code cell trains two Decision Tree classifiers using your function `train_test_DT()`:\n",
    "\n",
    "- one with a low value of depth: `max_depth = 8`\n",
    "- one high value of depth: `max_depth = 32`\n"
   ]
  },
  {
   "cell_type": "code",
   "execution_count": 17,
   "metadata": {},
   "outputs": [
    {
     "name": "stdout",
     "output_type": "stream",
     "text": [
      "Max Depth=8, accuracy score: 0.7107411034933072\n",
      "Max Depth=32, accuracy score: 0.6220045706823376\n"
     ]
    }
   ],
   "source": [
    "max_depth_range = [8, 32]\n",
    "\n",
    "acc = []\n",
    "\n",
    "for md in max_depth_range:\n",
    "    score = train_test_DT(X_train, X_test, y_train, y_test, 1, md)\n",
    "    print('Max Depth=' + str(md) + ', accuracy score: ' + str(score))\n",
    "    acc.append(float(score))\n",
    "\n",
    "    "
   ]
  },
  {
   "cell_type": "markdown",
   "metadata": {},
   "source": [
    "Let's visualize the results."
   ]
  },
  {
   "cell_type": "code",
   "execution_count": 18,
   "metadata": {},
   "outputs": [
    {
     "data": {
      "image/png": "[encoded data removed]",
      "text/plain": [
       "<Figure size 432x288 with 1 Axes>"
      ]
     },
     "metadata": {
      "needs_background": "light"
     },
     "output_type": "display_data"
    }
   ],
   "source": [
    "fig = plt.figure()\n",
    "ax = fig.add_subplot(111)\n",
    "p = sns.lineplot(x=max_depth_range, y=acc, marker='o', label = 'Full training set')\n",
    "\n",
    "plt.title('Test set accuracy of the DT predictions, for $max\\_depth\\in\\{8, 32\\}$')\n",
    "ax.set_xlabel('max_depth')\n",
    "ax.set_ylabel('Accuracy')\n",
    "plt.show()\n",
    "\n"
   ]
  },
  {
   "cell_type": "markdown",
   "metadata": {},
   "source": [
    "Is this picture conclusive for determining a good value of `max_depth`?"
   ]
  },
  {
   "cell_type": "markdown",
   "metadata": {},
   "source": [
    "Let's work with more values for max depth.\n",
    "\n",
    "The code bellow trains six Decision Tree classifiers with different values of `max_depth`.\n",
    "Inspect the accuracy scores and note the optimal value for `max_depth`.\n",
    "\n"
   ]
  },
  {
   "cell_type": "code",
   "execution_count": 19,
   "metadata": {},
   "outputs": [
    {
     "name": "stdout",
     "output_type": "stream",
     "text": [
      "Accuracy scores:\n",
      "Max Depth=1, accuracy score: 0.7107411034933072\n",
      "Max Depth=2, accuracy score: 0.7107411034933072\n",
      "Max Depth=4, accuracy score: 0.7143323539014038\n",
      "Max Depth=8, accuracy score: 0.7108063989552726\n",
      "Max Depth=16, accuracy score: 0.6625530525628469\n",
      "Max Depth=32, accuracy score: 0.615605615409729\n"
     ]
    }
   ],
   "source": [
    "max_depth_range = [2**i for i in range(6)] \n",
    "acc = []\n",
    "\n",
    "print(\"Accuracy scores:\")\n",
    "for md in max_depth_range:\n",
    "    score = train_test_DT(X_train, X_test, y_train, y_test, 1, md)\n",
    "    print('Max Depth=' + str(md) + ', accuracy score: ' + str(score))\n",
    "    acc.append(float(score))\n",
    "    \n",
    "      \n"
   ]
  },
  {
   "cell_type": "markdown",
   "metadata": {},
   "source": [
    "Let's visualize the results"
   ]
  },
  {
   "cell_type": "code",
   "execution_count": 20,
   "metadata": {},
   "outputs": [
    {
     "data": {
      "image/png": "[encoded data removed]",
      "text/plain": [
       "<Figure size 432x288 with 1 Axes>"
      ]
     },
     "metadata": {
      "needs_background": "light"
     },
     "output_type": "display_data"
    }
   ],
   "source": [
    "x = max_depth_range\n",
    "    \n",
    "fig = plt.figure()\n",
    "p_grid = sns.lineplot(x=x, y=acc, marker='o', label = 'Full training set')\n",
    "\n",
    "plt.title('Test set accuracy of the DT predictions, for $max\\_depth\\in(2^0, 2^{5})$')\n",
    "ax.set_xlabel('max_depth')\n",
    "ax.set_ylabel('Accuracy')\n",
    "plt.show()\n",
    "\n"
   ]
  },
  {
   "cell_type": "markdown",
   "metadata": {},
   "source": [
    "## Deep Dive: Identify the Most Important Features"
   ]
  },
  {
   "cell_type": "markdown",
   "metadata": {},
   "source": [
    "Every time we fit a `sklearn` decision tree model to the data, the resulting `model` object will contain an attribute that stores the importance scores for all features in the data:"
   ]
  },
  {
   "cell_type": "code",
   "execution_count": 21,
   "metadata": {},
   "outputs": [
    {
     "data": {
      "text/plain": [
       "array([0.05166069, 0.00161232, 0.01458367, 0.01012555, 0.        ])"
      ]
     },
     "execution_count": 21,
     "metadata": {},
     "output_type": "execute_result"
    }
   ],
   "source": [
    "model = DecisionTreeClassifier(min_samples_leaf = 100, max_depth = 20, criterion = 'entropy')\n",
    "model.fit(X_train, y_train)\n",
    "\n",
    "fi = model.feature_importances_\n",
    "fi[:5]"
   ]
  },
  {
   "cell_type": "markdown",
   "metadata": {},
   "source": [
    "Let us sort the feature *names* by their importance:"
   ]
  },
  {
   "cell_type": "code",
   "execution_count": 22,
   "metadata": {},
   "outputs": [],
   "source": [
    "names_sorted = [x for _,x in sorted(zip(fi, X_train.columns.values), reverse = True)]"
   ]
  },
  {
   "cell_type": "markdown",
   "metadata": {},
   "source": [
    "We are now ready to plot the top 10 most predictive features on which the examples were split:"
   ]
  },
  {
   "cell_type": "code",
   "execution_count": 23,
   "metadata": {},
   "outputs": [
    {
     "data": {
      "text/plain": [
       "Text(0, 0.5, 'Normalized importance')"
      ]
     },
     "execution_count": 23,
     "metadata": {},
     "output_type": "execute_result"
    },
    {
     "data": {
      "image/png": "[encoded data removed]",
      "text/plain": [
       "<Figure size 432x288 with 1 Axes>"
      ]
     },
     "metadata": {
      "needs_background": "light"
     },
     "output_type": "display_data"
    }
   ],
   "source": [
    "fig, ax = plt.subplots()\n",
    "\n",
    "ax.bar(np.arange(10), sorted(model.feature_importances_, reverse=True)[:10], width = 0.35)\n",
    "ax.set_xticks(np.arange(10))\n",
    "ax.set_xticklabels(names_sorted[:10], rotation = 90)\n",
    "plt.title('Feature importance from DT')\n",
    "ax.set_ylabel('Normalized importance')"
   ]
  },
  {
   "cell_type": "markdown",
   "metadata": {},
   "source": [
    "For predicting the `Churn` class label, these were the most important features to split the data on."
   ]
  },
  {
   "cell_type": "code",
   "execution_count": null,
   "metadata": {},
   "outputs": [],
   "source": []
  },
  {
   "cell_type": "code",
   "execution_count": null,
   "metadata": {},
   "outputs": [],
   "source": []
  },
  {
   "cell_type": "code",
   "execution_count": null,
   "metadata": {},
   "outputs": [],
   "source": []
  },
  {
   "cell_type": "code",
   "execution_count": null,
   "metadata": {},
   "outputs": [],
   "source": [
    "\n"
   ]
  }
 ],
 "metadata": {
  "kernelspec": {
   "display_name": "Python 3",
   "language": "python",
   "name": "python3"
  },
  "language_info": {
   "codemirror_mode": {
    "name": "ipython",
    "version": 3
   },
   "file_extension": ".py",
   "mimetype": "text/x-python",
   "name": "python",
   "nbconvert_exporter": "python",
   "pygments_lexer": "ipython3",
   "version": "3.6.9"
  },
  "toc": {
   "base_numbering": 1,
   "nav_menu": {},
   "number_sections": false,
   "sideBar": true,
   "skip_h1_title": false,
   "title_cell": "Table of Contents",
   "title_sidebar": "Contents",
   "toc_cell": false,
   "toc_position": {},
   "toc_section_display": true,
   "toc_window_display": false
  },
  "varInspector": {
   "cols": {
    "lenName": 16,
    "lenType": 16,
    "lenVar": 40
   },
   "kernels_config": {
    "python": {
     "delete_cmd_postfix": "",
     "delete_cmd_prefix": "del ",
     "library": "var_list.py",
     "varRefreshCmd": "print(var_dic_list())"
    },
    "r": {
     "delete_cmd_postfix": ") ",
     "delete_cmd_prefix": "rm(",
     "library": "var_list.r",
     "varRefreshCmd": "cat(var_dic_list()) "
    }
   },
   "types_to_exclude": [
    "module",
    "function",
    "builtin_function_or_method",
    "instance",
    "_Feature"
   ],
   "window_display": false
  }
 },
 "nbformat": 4,
 "nbformat_minor": 2
}
